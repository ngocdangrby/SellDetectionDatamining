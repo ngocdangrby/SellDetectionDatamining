{
 "cells": [
  {
   "cell_type": "markdown",
   "metadata": {},
   "source": [
    "# Bài toán xác định bài viết bán hàng \n",
    " \n",
    "### Tóm tắt yêu cầu:\n",
    "Xác định một bài viết trên mạng xã hội có phải là bán hàng hay không?\n",
    "### Bộ dữ liệu:\n",
    "60.000 dòng trạng thái trên mạng xã hội đã được gẵn nhãn bán hàng hay không.\n",
    "\n",
    "## Thực hiện\n",
    "\n",
    "### Tiền xử lí dữ liệu\n",
    "\n",
    "Thêm các thư viện cần sử dụng:"
   ]
  },
  {
   "cell_type": "code",
   "execution_count": 1,
   "metadata": {},
   "outputs": [],
   "source": [
    "import pandas as pd\n",
    "import numpy as np\n",
    "from sklearn.preprocessing import LabelEncoder\n",
    "from collections import defaultdict\n",
    "from sklearn.feature_extraction.text import TfidfVectorizer\n",
    "from sklearn import model_selection, naive_bayes, svm\n",
    "from sklearn.metrics import accuracy_score\n",
    "import warnings\n",
    "warnings.filterwarnings('ignore')"
   ]
  },
  {
   "cell_type": "markdown",
   "metadata": {},
   "source": [
    "Đọc dữ liệu đầu vào và tách ra những data bán hàng và không bán hàng\n",
    "Nhìn qua bộ dữ liệu, chuyển các nhãn thành số:\n",
    "* 1 = không bán hàng\n",
    "* 0 = bán hàng"
   ]
  },
  {
   "cell_type": "code",
   "execution_count": 2,
   "metadata": {
    "scrolled": false
   },
   "outputs": [
    {
     "data": {
      "text/html": [
       "<div>\n",
       "<style scoped>\n",
       "    .dataframe tbody tr th:only-of-type {\n",
       "        vertical-align: middle;\n",
       "    }\n",
       "\n",
       "    .dataframe tbody tr th {\n",
       "        vertical-align: top;\n",
       "    }\n",
       "\n",
       "    .dataframe thead th {\n",
       "        text-align: right;\n",
       "    }\n",
       "</style>\n",
       "<table border=\"1\" class=\"dataframe\">\n",
       "  <thead>\n",
       "    <tr style=\"text-align: right;\">\n",
       "      <th></th>\n",
       "      <th>label</th>\n",
       "      <th>content</th>\n",
       "    </tr>\n",
       "  </thead>\n",
       "  <tbody>\n",
       "    <tr>\n",
       "      <td>0</td>\n",
       "      <td>1</td>\n",
       "      <td>Gsu khsi nek dep gai hk cho y kirn yk nhoaz kh...</td>\n",
       "    </tr>\n",
       "    <tr>\n",
       "      <td>1</td>\n",
       "      <td>1</td>\n",
       "      <td>Haiz ... chan wa. hoc-hoc-nua-hoc mau</td>\n",
       "    </tr>\n",
       "    <tr>\n",
       "      <td>2</td>\n",
       "      <td>1</td>\n",
       "      <td>Găng tay ngập shop</td>\n",
       "    </tr>\n",
       "    <tr>\n",
       "      <td>3</td>\n",
       "      <td>0</td>\n",
       "      <td>🌺 2 siểu phẩm XÔNG BẮC THẢO DƯỢC 🌺 ( Công dụng...</td>\n",
       "    </tr>\n",
       "    <tr>\n",
       "      <td>4</td>\n",
       "      <td>1</td>\n",
       "      <td>Nổi nhớ dân trào 😂😂😂</td>\n",
       "    </tr>\n",
       "  </tbody>\n",
       "</table>\n",
       "</div>"
      ],
      "text/plain": [
       "   label                                            content\n",
       "0      1  Gsu khsi nek dep gai hk cho y kirn yk nhoaz kh...\n",
       "1      1              Haiz ... chan wa. hoc-hoc-nua-hoc mau\n",
       "2      1                                 Găng tay ngập shop\n",
       "3      0  🌺 2 siểu phẩm XÔNG BẮC THẢO DƯỢC 🌺 ( Công dụng...\n",
       "4      1                               Nổi nhớ dân trào 😂😂😂"
      ]
     },
     "execution_count": 2,
     "metadata": {},
     "output_type": "execute_result"
    }
   ],
   "source": [
    "SELL = '__label__post_ban_hang'\n",
    "NON_SELL = '__label__post_khong_ban'\n",
    "data  = pd.read_csv('./data/data_original.txt', header = None, sep=\"\\n\")\n",
    "tmp = data[0].str.split(\" \", 1, expand = True)\n",
    "df = pd.DataFrame(columns=['label', 'content'])\n",
    "data['label'] = tmp[0]\n",
    "data['content'] = tmp[1]\n",
    "data.drop([data.columns[0]], axis='columns', inplace=True)\n",
    "Encoder = LabelEncoder()\n",
    "data['label'] = Encoder.fit_transform(data['label'])\n",
    "data.head(5)"
   ]
  },
  {
   "cell_type": "markdown",
   "metadata": {},
   "source": [
    "Số lượng dữ liệu và từng loại label:\n",
    "* Bán hàng: 7935 (chiếm 13.2%)\n",
    "* Không bán hàng: 52065 (chiếm 86.8%)"
   ]
  },
  {
   "cell_type": "code",
   "execution_count": 3,
   "metadata": {
    "scrolled": false
   },
   "outputs": [
    {
     "data": {
      "text/html": [
       "<div>\n",
       "<style scoped>\n",
       "    .dataframe tbody tr th:only-of-type {\n",
       "        vertical-align: middle;\n",
       "    }\n",
       "\n",
       "    .dataframe tbody tr th {\n",
       "        vertical-align: top;\n",
       "    }\n",
       "\n",
       "    .dataframe thead th {\n",
       "        text-align: right;\n",
       "    }\n",
       "</style>\n",
       "<table border=\"1\" class=\"dataframe\">\n",
       "  <thead>\n",
       "    <tr style=\"text-align: right;\">\n",
       "      <th></th>\n",
       "      <th>content</th>\n",
       "    </tr>\n",
       "    <tr>\n",
       "      <th>label</th>\n",
       "      <th></th>\n",
       "    </tr>\n",
       "  </thead>\n",
       "  <tbody>\n",
       "    <tr>\n",
       "      <td>0</td>\n",
       "      <td>7935</td>\n",
       "    </tr>\n",
       "    <tr>\n",
       "      <td>1</td>\n",
       "      <td>52065</td>\n",
       "    </tr>\n",
       "  </tbody>\n",
       "</table>\n",
       "</div>"
      ],
      "text/plain": [
       "       content\n",
       "label         \n",
       "0         7935\n",
       "1        52065"
      ]
     },
     "execution_count": 3,
     "metadata": {},
     "output_type": "execute_result"
    }
   ],
   "source": [
    "data.groupby('label').count()"
   ]
  },
  {
   "cell_type": "markdown",
   "metadata": {},
   "source": [
    "Xem những từ xuất hiện nhiều trên bộ dữ liệu:"
   ]
  },
  {
   "cell_type": "code",
   "execution_count": 4,
   "metadata": {
    "scrolled": false
   },
   "outputs": [
    {
     "data": {
      "text/plain": [
       "<Figure size 640x480 with 1 Axes>"
      ]
     },
     "metadata": {},
     "output_type": "display_data"
    }
   ],
   "source": [
    "%run ./pre-process/top_words\n",
    "top_words(data['content'].tolist(), file_name = 'top_before_pre')"
   ]
  },
  {
   "cell_type": "markdown",
   "metadata": {},
   "source": [
    "Làm đẹp dữ liệu text qua các bước:\n",
    "* Chuyển thành kí tự viết thường\n",
    "* Loại bỏ các emoji\n",
    "* Chuyển đổi các định dạng giá cả $\\Rightarrow$ __giá_sản_phẩm__\n",
    "   * Ví dụ: 500k, 500.000đ, 500.000vnđ, 5m, 5tr6, ...\n",
    "* Chuyển đổi link website \t$\\Rightarrow$ __link_website__\n",
    "   * Toàn bộ link bắt đầu từ http, https, bit.ly, goo.gl\n",
    "* Chuyển đổi các dạng số điện thoại \t$\\Rightarrow$ __số_điện_thoại__\n",
    "   * Ví dụ: +84946.123.45, 096-265-222, 096.265.222, ...\n",
    "* Xóa các dấu câu, kí tự lạ.\n",
    "* Xoá kí tự số\n",
    "* Tokenizer\n",
    "   * Chuyển các từ ghép có nghĩa thành một từ: xin chào $\\rightarrow$ __xin_chào__, tóm tắt $\\rightarrow$ __tóm_tắt__, kính đổi màu $\\rightarrow$ __kính_đổi_màu__ ... \n",
    "* Xóa các data NaN"
   ]
  },
  {
   "cell_type": "code",
   "execution_count": 5,
   "metadata": {},
   "outputs": [
    {
     "name": "stdout",
     "output_type": "stream",
     "text": [
      "Loading model from file pre-process/vi-segmentation.crfsuite\n"
     ]
    },
    {
     "data": {
      "text/html": [
       "<div>\n",
       "<style scoped>\n",
       "    .dataframe tbody tr th:only-of-type {\n",
       "        vertical-align: middle;\n",
       "    }\n",
       "\n",
       "    .dataframe tbody tr th {\n",
       "        vertical-align: top;\n",
       "    }\n",
       "\n",
       "    .dataframe thead th {\n",
       "        text-align: right;\n",
       "    }\n",
       "</style>\n",
       "<table border=\"1\" class=\"dataframe\">\n",
       "  <thead>\n",
       "    <tr style=\"text-align: right;\">\n",
       "      <th></th>\n",
       "      <th>label</th>\n",
       "      <th>content</th>\n",
       "    </tr>\n",
       "  </thead>\n",
       "  <tbody>\n",
       "    <tr>\n",
       "      <td>0</td>\n",
       "      <td>1</td>\n",
       "      <td>gsu khsi nek dep gai hk cho y kirn yk nhoaz kh...</td>\n",
       "    </tr>\n",
       "    <tr>\n",
       "      <td>1</td>\n",
       "      <td>1</td>\n",
       "      <td>haiz chan wa hoc hoc nua hoc mau</td>\n",
       "    </tr>\n",
       "    <tr>\n",
       "      <td>2</td>\n",
       "      <td>1</td>\n",
       "      <td>găng_tay ngập shop</td>\n",
       "    </tr>\n",
       "    <tr>\n",
       "      <td>3</td>\n",
       "      <td>0</td>\n",
       "      <td>siểu phẩm xông bắc thảo_dược công_dụng từng lo...</td>\n",
       "    </tr>\n",
       "    <tr>\n",
       "      <td>4</td>\n",
       "      <td>1</td>\n",
       "      <td>nổi nhớ dân trào</td>\n",
       "    </tr>\n",
       "    <tr>\n",
       "      <td>...</td>\n",
       "      <td>...</td>\n",
       "      <td>...</td>\n",
       "    </tr>\n",
       "    <tr>\n",
       "      <td>59995</td>\n",
       "      <td>1</td>\n",
       "      <td>còn ít mầu nữa</td>\n",
       "    </tr>\n",
       "    <tr>\n",
       "      <td>59996</td>\n",
       "      <td>0</td>\n",
       "      <td>đầm xòe cổ sen sát_nách chất da cá sỉ giá_sản_...</td>\n",
       "    </tr>\n",
       "    <tr>\n",
       "      <td>59997</td>\n",
       "      <td>1</td>\n",
       "      <td>người đẹp chuyển giới thái lan biểu_diễn</td>\n",
       "    </tr>\n",
       "    <tr>\n",
       "      <td>59998</td>\n",
       "      <td>1</td>\n",
       "      <td>do not understand why this walking throughout ...</td>\n",
       "    </tr>\n",
       "    <tr>\n",
       "      <td>59999</td>\n",
       "      <td>1</td>\n",
       "      <td>hòa chung không_khí rộn_ràng của cả nước u23 v...</td>\n",
       "    </tr>\n",
       "  </tbody>\n",
       "</table>\n",
       "<p>60000 rows × 2 columns</p>\n",
       "</div>"
      ],
      "text/plain": [
       "       label                                            content\n",
       "0          1  gsu khsi nek dep gai hk cho y kirn yk nhoaz kh...\n",
       "1          1                   haiz chan wa hoc hoc nua hoc mau\n",
       "2          1                                 găng_tay ngập shop\n",
       "3          0  siểu phẩm xông bắc thảo_dược công_dụng từng lo...\n",
       "4          1                                   nổi nhớ dân trào\n",
       "...      ...                                                ...\n",
       "59995      1                                     còn ít mầu nữa\n",
       "59996      0  đầm xòe cổ sen sát_nách chất da cá sỉ giá_sản_...\n",
       "59997      1           người đẹp chuyển giới thái lan biểu_diễn\n",
       "59998      1  do not understand why this walking throughout ...\n",
       "59999      1  hòa chung không_khí rộn_ràng của cả nước u23 v...\n",
       "\n",
       "[60000 rows x 2 columns]"
      ]
     },
     "execution_count": 5,
     "metadata": {},
     "output_type": "execute_result"
    }
   ],
   "source": [
    "%run ./pre-process/pre_process\n",
    "data['content'] = data['content'].map(lambda s : pre_process(s))\n",
    "data.dropna()"
   ]
  },
  {
   "cell_type": "code",
   "execution_count": 6,
   "metadata": {
    "scrolled": false
   },
   "outputs": [
    {
     "data": {
      "text/plain": [
       "10    sữa rửa mặt ohui miracle moisture sữa rửa mặt ...\n",
       "11    chuc mừng sinh_nhật chj le nguyen em tuong vy ...\n",
       "12    clutch đà_điểu sang_trọng cho nam call số_điện...\n",
       "13    quần_jean chân viền ren hoa giá_sản_phẩm chất ...\n",
       "14               mới_đó mà đã chủ_nhật cuối tuần vui_vẻ\n",
       "15                                    nkìn a từ fía sau\n",
       "16                                       chuc thu sn vv\n",
       "17                         quả set up xấu thê_thảm nhất\n",
       "18                         vẫn người chụp ảnh có tâm ấy\n",
       "19    đầm ren hoa sang_trọng và tinh_tế và thanh_lịc...\n",
       "20    kam on may pn to chuc sn mk tuy muon nhưng mk ...\n",
       "21    một ngày lễ thật vui và ý_nghĩa chúc tất_cả th...\n",
       "22    hom nay la ngay vui ve nhat cua gia dinh da co...\n",
       "23                 hay tu nhien va vo tu nhu vay tot ko\n",
       "24    tàn_nhang bẩm_sinh đã hết nhờ thảo_dược hồng h...\n",
       "25    bộ đồ_chơi xúc xắc giá giá_sản_phẩm có số_lượn...\n",
       "26                                                     \n",
       "27    code ngày mã code2103 lông_vũ locke thần vũ lo...\n",
       "28    e lam co vui ko o no do co nguoi van mong cho ...\n",
       "29                                       ghi gì thì ghi\n",
       "Name: content, dtype: object"
      ]
     },
     "execution_count": 6,
     "metadata": {},
     "output_type": "execute_result"
    }
   ],
   "source": [
    "data['content'][10:30]"
   ]
  },
  {
   "cell_type": "markdown",
   "metadata": {},
   "source": [
    "Sau khi đã xử lí dữ liệu text, xem những từ xuất hiện nhiều nhất trong bộ dữ liệu:"
   ]
  },
  {
   "cell_type": "code",
   "execution_count": 7,
   "metadata": {
    "scrolled": false
   },
   "outputs": [
    {
     "data": {
      "image/png": "[encoded data removed]",
      "text/plain": [
       "<Figure size 432x288 with 1 Axes>"
      ]
     },
     "metadata": {
      "needs_background": "light"
     },
     "output_type": "display_data"
    },
    {
     "data": {
      "image/png": "[encoded data removed]",
      "text/plain": [
       "<Figure size 432x288 with 1 Axes>"
      ]
     },
     "metadata": {
      "needs_background": "light"
     },
     "output_type": "display_data"
    }
   ],
   "source": [
    "%run ./pre-process/top_words\n",
    "two_top_words(data, file_name = 'top_after_pre')\n"
   ]
  },
  {
   "cell_type": "markdown",
   "metadata": {},
   "source": [
    "Khi nhìn vào biểu đồ những từ xuất hiện nhiều trong dữ liệu, ta dễ dàng thấy một số từ không mang tính phân loại hoặc từ không mang nhiều ý nghĩa, ví dụ: *và*, *là*, *có*, *cho*, ...\n",
    "\n",
    "Tiến hành loại bỏ những từ này bằng cách sử dụng bộ từ điển *stopwords*"
   ]
  },
  {
   "cell_type": "code",
   "execution_count": 8,
   "metadata": {
    "scrolled": false
   },
   "outputs": [
    {
     "data": {
      "image/png": "[encoded data removed]",
      "text/plain": [
       "<Figure size 432x288 with 1 Axes>"
      ]
     },
     "metadata": {
      "needs_background": "light"
     },
     "output_type": "display_data"
    },
    {
     "data": {
      "image/png": "[encoded data removed]",
      "text/plain": [
       "<Figure size 432x288 with 1 Axes>"
      ]
     },
     "metadata": {
      "needs_background": "light"
     },
     "output_type": "display_data"
    }
   ],
   "source": [
    "%run ./pre-process/top_words\n",
    "\n",
    "stopwords = set(line.strip() for line in open('pre-process/stopwords.txt'))\n",
    "data['content'] = data['content'].apply(lambda x: ' '.join([word for word in x.split() if word not in (stopwords)]))\n",
    "two_top_words(data, file_name = 'top_after_pre')\n"
   ]
  },
  {
   "cell_type": "markdown",
   "metadata": {},
   "source": [
    "Vector hóa, train và đánh giá phương pháp:"
   ]
  },
  {
   "cell_type": "code",
   "execution_count": 9,
   "metadata": {
    "scrolled": false
   },
   "outputs": [],
   "source": [
    "# Tách dữ liệu thành tập train và test\n",
    "Train_X, Test_X, Train_Y, Test_Y = model_selection.train_test_split(data['content'], data['label'],test_size=0.3, random_state=42)\n",
    "\n",
    "# Vecto hóa dùng TF-IDF Vectorizer\n",
    "Tfidf_vect = TfidfVectorizer(max_features=5000, lowercase=False)\n",
    "Tfidf_vect.fit(data['content'])\n",
    "\n",
    "Train_X_Tfidf = Tfidf_vect.transform(Train_X)\n",
    "Test_X_Tfidf = Tfidf_vect.transform(Test_X)"
   ]
  },
  {
   "cell_type": "code",
   "execution_count": 10,
   "metadata": {},
   "outputs": [
    {
     "name": "stdout",
     "output_type": "stream",
     "text": [
      "Naive Bayes Accuracy ->  96.83333333333334\n",
      "SVM Accuracy ->  97.71111111111111\n"
     ]
    }
   ],
   "source": [
    "# Phân loại dùng Naive Bayes và SVM để so sánh\n",
    "\n",
    "# Naive Bayes\n",
    "# fit tập train \n",
    "Naive = naive_bayes.MultinomialNB()\n",
    "Naive.fit(Train_X_Tfidf,Train_Y)\n",
    "\n",
    "# dự đoán\n",
    "predictions_NB = Naive.predict(Test_X_Tfidf)\n",
    "\n",
    "#  Tính Accuracy\n",
    "print(\"Naive Bayes Accuracy -> \",accuracy_score(predictions_NB, Test_Y)*100)\n",
    "\n",
    "\n",
    "# SVM\n",
    "# fit tập train \n",
    "SVM = svm.SVC(C=1.0, kernel='linear', degree=3, gamma='auto')\n",
    "SVM.fit(Train_X_Tfidf,Train_Y)\n",
    "\n",
    "# dự đoán\n",
    "predictions_SVM = SVM.predict(Test_X_Tfidf)\n",
    "\n",
    "# Tính Accuracy\n",
    "print(\"SVM Accuracy -> \",accuracy_score(predictions_SVM, Test_Y)*100)"
   ]
  },
  {
   "cell_type": "code",
   "execution_count": 11,
   "metadata": {
    "scrolled": false
   },
   "outputs": [
    {
     "name": "stdout",
     "output_type": "stream",
     "text": [
      "Confusion matrix:\n",
      "[[ 2091   264]\n",
      " [  148 15497]]\n"
     ]
    }
   ],
   "source": [
    "from sklearn.metrics import confusion_matrix\n",
    "cnf_matrix = confusion_matrix(Test_Y, predictions_SVM)\n",
    "print('Confusion matrix:')\n",
    "print(cnf_matrix)"
   ]
  },
  {
   "cell_type": "code",
   "execution_count": 12,
   "metadata": {},
   "outputs": [
    {
     "data": {
      "text/plain": [
       "0.9884938255599132"
      ]
     },
     "execution_count": 12,
     "metadata": {},
     "output_type": "execute_result"
    }
   ],
   "source": [
    "TP = float(15249)\n",
    "FP = float(232)\n",
    "TN = float(2210)\n",
    "FN = float(123)\n",
    "precision = TP/(TP+FP)\n",
    "recall = TP/(TP+FN)\n",
    "F1 = 2.0*(precision*recall)/(precision+recall)\n",
    "F1"
   ]
  },
  {
   "cell_type": "code",
   "execution_count": 13,
   "metadata": {
    "scrolled": true
   },
   "outputs": [
    {
     "data": {
      "text/plain": [
       "array([1])"
      ]
     },
     "execution_count": 13,
     "metadata": {},
     "output_type": "execute_result"
    }
   ],
   "source": [
    "Naive.predict(Tfidf_vect.transform([pre_process(\"\"\"hôm nay tôi mệt\"\"\")]))\n"
   ]
  },
  {
   "cell_type": "code",
   "execution_count": 14,
   "metadata": {},
   "outputs": [
    {
     "data": {
      "text/plain": [
       "array([0])"
      ]
     },
     "execution_count": 14,
     "metadata": {},
     "output_type": "execute_result"
    }
   ],
   "source": [
    "Naive.predict(Tfidf_vect.transform([pre_process(\"\"\"Cái áo này giá 600k bạn nhé :D\"\"\")]))"
   ]
  },
  {
   "cell_type": "markdown",
   "metadata": {},
   "source": [
    "## Đoạn sau này thử thôi, đừng bận tâm"
   ]
  },
  {
   "cell_type": "code",
   "execution_count": null,
   "metadata": {
    "scrolled": true
   },
   "outputs": [],
   "source": [
    "from sklearn.feature_extraction.text import TfidfVectorizer\n",
    "\n",
    "from yellowbrick.text import TSNEVisualizer\n",
    "from yellowbrick.datasets import load_hobbies\n",
    "\n",
    "# # Load the data and create document vectors\n",
    "# corpus = load_hobbies()\n",
    "# tfidf = TfidfVectorizer()\n",
    "\n",
    "# X = tfidf.fit_transform(corpus.data)\n",
    "# y = corpus.target\n",
    "\n",
    "# Create the visualizer and draw the vectors\n",
    "tsne = TSNEVisualizer()\n",
    "tsne.fit(Train_X_Tfidf, Train_Y)\n",
    "tsne.show()"
   ]
  },
  {
   "cell_type": "code",
   "execution_count": null,
   "metadata": {},
   "outputs": [],
   "source": [
    "import seaborn as sns\n",
    "import matplotlib.colors as mcolors\n",
    "import matplotlib.pyplot as plt\n",
    "cols = [color for name, color in mcolors.TABLEAU_COLORS.items()]  # more colors: 'mcolors.XKCD_COLORS'\n",
    "\n",
    "fig, axes = plt.subplots(2,1,figsize=(16,14), dpi=160, sharex=True, sharey=True)\n",
    "\n",
    "for i, ax in enumerate(axes.flatten()):\n",
    "    doc_len1 = [len(str(d)) for d in data_sells]\n",
    "    doc_len2 = [len(str(d)) for d in data_nonsells]\n",
    "    doc_lens = doc_len1 + doc_len2\n",
    "    ax.hist(doc_lens, bins = 1000, color=cols[i])\n",
    "    ax.tick_params(axis='y', labelcolor=cols[i], color=cols[i])\n",
    "    sns.kdeplot(doc_lens, color=\"black\", shade=False, ax=ax.twinx())\n",
    "    ax.set(xlim=(0, 1000), xlabel='Document Word Count')\n",
    "    ax.set_ylabel('Number of Documents', color=cols[i])\n",
    "    ax.set_title('Topic: '+str(i), fontdict=dict(size=16, color=cols[i]))\n",
    "\n",
    "fig.tight_layout()\n",
    "fig.subplots_adjust(top=0.90)\n",
    "plt.xticks(np.linspace(0,1000,9))\n",
    "fig.suptitle('Distribution of Document Word Counts by Dominant Topic', fontsize=22)\n",
    "plt.show()"
   ]
  },
  {
   "cell_type": "code",
   "execution_count": null,
   "metadata": {
    "scrolled": true
   },
   "outputs": [],
   "source": [
    "import collections\n",
    "import re\n",
    "import matplotlib.pyplot as plt\n",
    "\n",
    "# file = open('../data/sell.csv', 'r')\n",
    "# file = file.read()\n",
    "from matplotlib.pyplot import figure\n",
    "figure(num=None, figsize=(50, 40), dpi=80, facecolor='w', edgecolor='k')\n",
    "doc_len = collections.defaultdict(int)\n",
    "\"\"\" \n",
    "the next paragraph does all the counting and is the main point of difference from the original article. More on this is explained later.\n",
    "\"\"\"\n",
    "# \\W is regex for characters that are not alphanumerics.\n",
    "# all non-alphanumerics are replaced with a blank space using re.sub\n",
    "def cal_len(data):\n",
    "    for line in data:\n",
    "        l = int(len(line.split())/10)*10\n",
    "        if l < 1000:\n",
    "            doc_len[l] += 1\n",
    "        else:\n",
    "            doc_len[1000] +=1\n",
    "    return doc_len\n",
    "\n",
    "d = cal_len(data_nonsells[0])\n",
    "\n",
    "# # printing most common words\n",
    "# to_print = 25\n",
    "# # the next line sorts the default dict on the values in decreasing  # order and prints the first \"to_print\".\n",
    "# mc = sorted(wordcount.items(), key=lambda k_v: k_v[1], reverse=True)[:to_print] # this is continued from the previous assignment\n",
    "# for word, count in mc:\n",
    "#     print(word, \":\", count)\n",
    "\n",
    "mc = sorted(d.items(), key=lambda k_v: k_v[0], reverse=True)\n",
    "\n",
    "def loai(var):\n",
    "    return var[1] > 10\n",
    "\n",
    "mc = filter(loai,mc)\n",
    "# Draw the bar chart\n",
    "mc = dict(mc)\n",
    "names = list(mc.keys())\n",
    "values = list(mc.values())\n",
    "\n",
    "plt.barh(range(len(mc)),values,tick_label=names)\n",
    "plt.savefig('bar2.png')\n",
    "plt.show()\n",
    "mc\n"
   ]
  }
 ],
 "metadata": {
  "kernelspec": {
   "display_name": "Python 3",
   "language": "python",
   "name": "python3"
  },
  "language_info": {
   "codemirror_mode": {
    "name": "ipython",
    "version": 3
   },
   "file_extension": ".py",
   "mimetype": "text/x-python",
   "name": "python",
   "nbconvert_exporter": "python",
   "pygments_lexer": "ipython3",
   "version": "3.6.9"
  }
 },
 "nbformat": 4,
 "nbformat_minor": 2
}
