{
 "cells": [
  {
   "cell_type": "markdown",
   "metadata": {},
   "source": [
    "# Bài toán xác định bài viết bán hàng \n",
    " \n",
    "### Tóm tắt yêu cầu:\n",
    "Xác định một bài viết trên mạng xã hội có phải là bán hàng hay không?\n",
    "### Bộ dữ liệu:\n",
    "60.000 dòng trạng thái trên mạng xã hội đã được gẵn nhãn bán hàng hay không.\n",
    "\n",
    "## Thực hiện\n",
    "\n",
    "### Tiền xử lí dữ liệu\n",
    "\n",
    "Thêm các thư viện cần sử dụng:"
   ]
  },
  {
   "cell_type": "code",
   "execution_count": 21,
   "metadata": {},
   "outputs": [],
   "source": [
    "import pandas as pd\n",
    "import numpy as np\n",
    "from sklearn.preprocessing import LabelEncoder\n",
    "from collections import defaultdict\n",
    "from sklearn.feature_extraction.text import TfidfVectorizer\n",
    "from sklearn import model_selection, naive_bayes, svm\n",
    "from sklearn.metrics import accuracy_score\n",
    "import warnings\n",
    "warnings.filterwarnings('ignore')"
   ]
  },
  {
   "cell_type": "markdown",
   "metadata": {},
   "source": [
    "Đọc dữ liệu đầu vào và tách ra những data bán hàng và không bán hàng\n",
    "Nhìn qua bộ dữ liệu, chuyển các nhãn thành số:\n",
    "* 1 = không bán hàng\n",
    "* 0 = bán hàng"
   ]
  },
  {
   "cell_type": "code",
   "execution_count": 22,
   "metadata": {
    "scrolled": false
   },
   "outputs": [
    {
     "data": {
      "text/html": [
       "<div>\n",
       "<style scoped>\n",
       "    .dataframe tbody tr th:only-of-type {\n",
       "        vertical-align: middle;\n",
       "    }\n",
       "\n",
       "    .dataframe tbody tr th {\n",
       "        vertical-align: top;\n",
       "    }\n",
       "\n",
       "    .dataframe thead th {\n",
       "        text-align: right;\n",
       "    }\n",
       "</style>\n",
       "<table border=\"1\" class=\"dataframe\">\n",
       "  <thead>\n",
       "    <tr style=\"text-align: right;\">\n",
       "      <th></th>\n",
       "      <th>label</th>\n",
       "      <th>content</th>\n",
       "    </tr>\n",
       "  </thead>\n",
       "  <tbody>\n",
       "    <tr>\n",
       "      <td>0</td>\n",
       "      <td>1</td>\n",
       "      <td>Gsu khsi nek dep gai hk cho y kirn yk nhoaz kh...</td>\n",
       "    </tr>\n",
       "    <tr>\n",
       "      <td>1</td>\n",
       "      <td>1</td>\n",
       "      <td>Haiz ... chan wa. hoc-hoc-nua-hoc mau</td>\n",
       "    </tr>\n",
       "    <tr>\n",
       "      <td>2</td>\n",
       "      <td>1</td>\n",
       "      <td>Găng tay ngập shop</td>\n",
       "    </tr>\n",
       "    <tr>\n",
       "      <td>3</td>\n",
       "      <td>0</td>\n",
       "      <td>🌺 2 siểu phẩm XÔNG BẮC THẢO DƯỢC 🌺 ( Công dụng...</td>\n",
       "    </tr>\n",
       "    <tr>\n",
       "      <td>4</td>\n",
       "      <td>1</td>\n",
       "      <td>Nổi nhớ dân trào 😂😂😂</td>\n",
       "    </tr>\n",
       "  </tbody>\n",
       "</table>\n",
       "</div>"
      ],
      "text/plain": [
       "   label                                            content\n",
       "0      1  Gsu khsi nek dep gai hk cho y kirn yk nhoaz kh...\n",
       "1      1              Haiz ... chan wa. hoc-hoc-nua-hoc mau\n",
       "2      1                                 Găng tay ngập shop\n",
       "3      0  🌺 2 siểu phẩm XÔNG BẮC THẢO DƯỢC 🌺 ( Công dụng...\n",
       "4      1                               Nổi nhớ dân trào 😂😂😂"
      ]
     },
     "execution_count": 22,
     "metadata": {},
     "output_type": "execute_result"
    }
   ],
   "source": [
    "SELL = '__label__post_ban_hang'\n",
    "NON_SELL = '__label__post_khong_ban'\n",
    "data  = pd.read_csv('./data/data_original.txt', header = None, sep=\"\\n\")\n",
    "tmp = data[0].str.split(\" \", 1, expand = True)\n",
    "df = pd.DataFrame(columns=['label', 'content'])\n",
    "data['label'] = tmp[0]\n",
    "data['content'] = tmp[1]\n",
    "data.drop([data.columns[0]], axis='columns', inplace=True)\n",
    "Encoder = LabelEncoder()\n",
    "data['label'] = Encoder.fit_transform(data['label'])\n",
    "data.head(5)"
   ]
  },
  {
   "cell_type": "markdown",
   "metadata": {},
   "source": [
    "Số lượng dữ liệu và từng loại label:\n",
    "* Bán hàng: 7935 (chiếm 13.2%)\n",
    "* Không bán hàng: 52065 (chiếm 86.8%)"
   ]
  },
  {
   "cell_type": "code",
   "execution_count": 23,
   "metadata": {
    "scrolled": false
   },
   "outputs": [
    {
     "data": {
      "text/html": [
       "<div>\n",
       "<style scoped>\n",
       "    .dataframe tbody tr th:only-of-type {\n",
       "        vertical-align: middle;\n",
       "    }\n",
       "\n",
       "    .dataframe tbody tr th {\n",
       "        vertical-align: top;\n",
       "    }\n",
       "\n",
       "    .dataframe thead th {\n",
       "        text-align: right;\n",
       "    }\n",
       "</style>\n",
       "<table border=\"1\" class=\"dataframe\">\n",
       "  <thead>\n",
       "    <tr style=\"text-align: right;\">\n",
       "      <th></th>\n",
       "      <th>content</th>\n",
       "    </tr>\n",
       "    <tr>\n",
       "      <th>label</th>\n",
       "      <th></th>\n",
       "    </tr>\n",
       "  </thead>\n",
       "  <tbody>\n",
       "    <tr>\n",
       "      <td>0</td>\n",
       "      <td>7935</td>\n",
       "    </tr>\n",
       "    <tr>\n",
       "      <td>1</td>\n",
       "      <td>52065</td>\n",
       "    </tr>\n",
       "  </tbody>\n",
       "</table>\n",
       "</div>"
      ],
      "text/plain": [
       "       content\n",
       "label         \n",
       "0         7935\n",
       "1        52065"
      ]
     },
     "execution_count": 23,
     "metadata": {},
     "output_type": "execute_result"
    }
   ],
   "source": [
    "data.groupby('label').count()"
   ]
  },
  {
   "cell_type": "markdown",
   "metadata": {},
   "source": [
    "Xem những từ xuất hiện nhiều trên bộ dữ liệu:"
   ]
  },
  {
   "cell_type": "code",
   "execution_count": 24,
   "metadata": {},
   "outputs": [
    {
     "name": "stdout",
     "output_type": "stream",
     "text": [
      ", : 49230\n",
      ": : 25117\n",
      "có : 16036\n",
      "... : 14376\n",
      ") : 12681\n",
      "và : 12623\n",
      "- : 12407\n",
      "cho : 12354\n",
      "là : 11873\n",
      "không : 10038\n",
      "của : 8900\n",
      ". : 8869\n",
      "các : 8824\n",
      "người : 7841\n",
      "bạn : 7796\n",
      "hàng : 7625\n",
      "giá : 7527\n",
      "em : 7430\n",
      "( : 7014\n",
      "được : 6972\n"
     ]
    },
    {
     "data": {
      "image/png": "[encoded data removed]",
      "text/plain": [
       "<Figure size 432x288 with 1 Axes>"
      ]
     },
     "metadata": {
      "needs_background": "light"
     },
     "output_type": "display_data"
    }
   ],
   "source": [
    "%run ./pre-process/top_words\n",
    "top_words(data['content'].tolist(), file_name = 'top_before_pre')"
   ]
  },
  {
   "cell_type": "markdown",
   "metadata": {},
   "source": [
    "Làm đẹp dữ liệu text qua các bước:\n",
    "* Chuyển thành kí tự viết thường\n",
    "* Loại bỏ các emoji\n",
    "* Chuyển đổi các định dạng giá cả $\\Rightarrow$ __giá_sản_phẩm__\n",
    "* Chuyển đổi link website \t$\\Rightarrow$ __link_website__\n",
    "* Chuyển đổi số điên thoại \t$\\Rightarrow$ __số_điện_thoại__\n",
    "* Xóa các dấu câu, kí tự lạ.\n",
    "* Xoá kí tự số\n",
    "* Tokenizer \n",
    "* Xóa các data NaN"
   ]
  },
  {
   "cell_type": "code",
   "execution_count": 25,
   "metadata": {},
   "outputs": [
    {
     "name": "stdout",
     "output_type": "stream",
     "text": [
      "Loading model from file pre-process/vi-segmentation.crfsuite\n"
     ]
    }
   ],
   "source": [
    "%run ./pre-process/pre_process\n",
    "data['content'] = data['content'].map(lambda s : pre_process(s))"
   ]
  },
  {
   "cell_type": "code",
   "execution_count": 26,
   "metadata": {
    "scrolled": true
   },
   "outputs": [
    {
     "data": {
      "text/html": [
       "<div>\n",
       "<style scoped>\n",
       "    .dataframe tbody tr th:only-of-type {\n",
       "        vertical-align: middle;\n",
       "    }\n",
       "\n",
       "    .dataframe tbody tr th {\n",
       "        vertical-align: top;\n",
       "    }\n",
       "\n",
       "    .dataframe thead th {\n",
       "        text-align: right;\n",
       "    }\n",
       "</style>\n",
       "<table border=\"1\" class=\"dataframe\">\n",
       "  <thead>\n",
       "    <tr style=\"text-align: right;\">\n",
       "      <th></th>\n",
       "      <th>label</th>\n",
       "      <th>content</th>\n",
       "    </tr>\n",
       "  </thead>\n",
       "  <tbody>\n",
       "    <tr>\n",
       "      <td>0</td>\n",
       "      <td>1</td>\n",
       "      <td>gsu khsi nek dep gai hk cho y kirn yk nhoaz kh...</td>\n",
       "    </tr>\n",
       "    <tr>\n",
       "      <td>1</td>\n",
       "      <td>1</td>\n",
       "      <td>haiz chan wa hoc hoc nua hoc mau</td>\n",
       "    </tr>\n",
       "    <tr>\n",
       "      <td>2</td>\n",
       "      <td>1</td>\n",
       "      <td>găng_tay ngập shop</td>\n",
       "    </tr>\n",
       "    <tr>\n",
       "      <td>3</td>\n",
       "      <td>0</td>\n",
       "      <td>siểu phẩm xông bắc thảo_dược công_dụng từng lo...</td>\n",
       "    </tr>\n",
       "    <tr>\n",
       "      <td>4</td>\n",
       "      <td>1</td>\n",
       "      <td>nổi nhớ dân trào</td>\n",
       "    </tr>\n",
       "    <tr>\n",
       "      <td>5</td>\n",
       "      <td>1</td>\n",
       "      <td>hoi trai sum vay</td>\n",
       "    </tr>\n",
       "    <tr>\n",
       "      <td>6</td>\n",
       "      <td>1</td>\n",
       "      <td>thật_sự jo này mình rất buồn cố nhưng không_thể</td>\n",
       "    </tr>\n",
       "    <tr>\n",
       "      <td>7</td>\n",
       "      <td>1</td>\n",
       "      <td>tổ_quốc chưa bao_giờ thiêng_liêng đến thế</td>\n",
       "    </tr>\n",
       "    <tr>\n",
       "      <td>8</td>\n",
       "      <td>0</td>\n",
       "      <td>chất_liệu da thật lót da_màu đen mận s35 form ...</td>\n",
       "    </tr>\n",
       "    <tr>\n",
       "      <td>9</td>\n",
       "      <td>0</td>\n",
       "      <td>mẫu kệ trang_trí mới thích_hợp cho phòng khách...</td>\n",
       "    </tr>\n",
       "  </tbody>\n",
       "</table>\n",
       "</div>"
      ],
      "text/plain": [
       "   label                                            content\n",
       "0      1  gsu khsi nek dep gai hk cho y kirn yk nhoaz kh...\n",
       "1      1                   haiz chan wa hoc hoc nua hoc mau\n",
       "2      1                                 găng_tay ngập shop\n",
       "3      0  siểu phẩm xông bắc thảo_dược công_dụng từng lo...\n",
       "4      1                                   nổi nhớ dân trào\n",
       "5      1                                   hoi trai sum vay\n",
       "6      1    thật_sự jo này mình rất buồn cố nhưng không_thể\n",
       "7      1          tổ_quốc chưa bao_giờ thiêng_liêng đến thế\n",
       "8      0  chất_liệu da thật lót da_màu đen mận s35 form ...\n",
       "9      0  mẫu kệ trang_trí mới thích_hợp cho phòng khách..."
      ]
     },
     "execution_count": 26,
     "metadata": {},
     "output_type": "execute_result"
    }
   ],
   "source": [
    "data.head(10)"
   ]
  },
  {
   "cell_type": "code",
   "execution_count": 35,
   "metadata": {},
   "outputs": [
    {
     "name": "stdout",
     "output_type": "stream",
     "text": [
      "có : 13644\n",
      "và : 13063\n",
      "cho : 12242\n",
      "là : 11321\n",
      "không : 9494\n",
      "các : 9190\n",
      "của : 9149\n",
      "giá_sản_phẩm : 8953\n",
      "bạn : 8037\n",
      "được : 7325\n",
      "người : 6936\n",
      "đi : 6769\n",
      "với : 6490\n",
      "để : 6333\n",
      "giá : 6326\n",
      "em : 6180\n",
      "mình : 5878\n",
      "hàng : 5868\n",
      "da : 5540\n",
      "đã : 5457\n"
     ]
    },
    {
     "data": {
      "image/png": "[encoded data removed]",
      "text/plain": [
       "<Figure size 432x288 with 1 Axes>"
      ]
     },
     "metadata": {
      "needs_background": "light"
     },
     "output_type": "display_data"
    },
    {
     "name": "stdout",
     "output_type": "stream",
     "text": [
      "có : 13644\n",
      "và : 13063\n",
      "cho : 12242\n",
      "là : 11321\n",
      "không : 9494\n",
      "các : 9190\n",
      "của : 9149\n",
      "giá_sản_phẩm : 8953\n",
      "bạn : 8037\n",
      "được : 7325\n",
      "người : 6936\n",
      "đi : 6769\n",
      "với : 6490\n",
      "để : 6333\n",
      "giá : 6326\n",
      "em : 6180\n",
      "mình : 5878\n",
      "hàng : 5868\n",
      "da : 5540\n",
      "đã : 5457\n"
     ]
    },
    {
     "data": {
      "image/png": "[encoded data removed]",
      "text/plain": [
       "<Figure size 432x288 with 1 Axes>"
      ]
     },
     "metadata": {
      "needs_background": "light"
     },
     "output_type": "display_data"
    }
   ],
   "source": [
    "%run ./pre-process/top_words\n",
    "two_top_words(data['content'].tolist(),data['content'].tolist(), file_name = 'top_after_pre')"
   ]
  },
  {
   "cell_type": "code",
   "execution_count": null,
   "metadata": {},
   "outputs": [],
   "source": []
  },
  {
   "cell_type": "code",
   "execution_count": 28,
   "metadata": {},
   "outputs": [
    {
     "ename": "NameError",
     "evalue": "name 'd' is not defined",
     "output_type": "error",
     "traceback": [
      "\u001b[0;31m---------------------------------------------------------------------------\u001b[0m",
      "\u001b[0;31mNameError\u001b[0m                                 Traceback (most recent call last)",
      "\u001b[0;32m<ipython-input-28-6fdc103a7673>\u001b[0m in \u001b[0;36m<module>\u001b[0;34m\u001b[0m\n\u001b[1;32m      1\u001b[0m \u001b[0;31m# Tách dữ liệu thành tập train và test\u001b[0m\u001b[0;34m\u001b[0m\u001b[0;34m\u001b[0m\u001b[0;34m\u001b[0m\u001b[0m\n\u001b[0;32m----> 2\u001b[0;31m \u001b[0mTrain_X\u001b[0m\u001b[0;34m,\u001b[0m \u001b[0mTest_X\u001b[0m\u001b[0;34m,\u001b[0m \u001b[0mTrain_Y\u001b[0m\u001b[0;34m,\u001b[0m \u001b[0mTest_Y\u001b[0m \u001b[0;34m=\u001b[0m \u001b[0mmodel_selection\u001b[0m\u001b[0;34m.\u001b[0m\u001b[0mtrain_test_split\u001b[0m\u001b[0;34m(\u001b[0m\u001b[0md\u001b[0m\u001b[0;34m,\u001b[0m \u001b[0mlabel\u001b[0m\u001b[0;34m,\u001b[0m\u001b[0mtest_size\u001b[0m\u001b[0;34m=\u001b[0m\u001b[0;36m0.3\u001b[0m\u001b[0;34m,\u001b[0m \u001b[0mrandom_state\u001b[0m\u001b[0;34m=\u001b[0m\u001b[0;36m42\u001b[0m\u001b[0;34m)\u001b[0m\u001b[0;34m\u001b[0m\u001b[0;34m\u001b[0m\u001b[0m\n\u001b[0m\u001b[1;32m      3\u001b[0m \u001b[0;34m\u001b[0m\u001b[0m\n\u001b[1;32m      4\u001b[0m \u001b[0;31m# Chuyển label thành số\u001b[0m\u001b[0;34m\u001b[0m\u001b[0;34m\u001b[0m\u001b[0;34m\u001b[0m\u001b[0m\n\u001b[1;32m      5\u001b[0m \u001b[0;31m# Encoder = LabelEncoder()\u001b[0m\u001b[0;34m\u001b[0m\u001b[0;34m\u001b[0m\u001b[0;34m\u001b[0m\u001b[0m\n",
      "\u001b[0;31mNameError\u001b[0m: name 'd' is not defined"
     ]
    }
   ],
   "source": [
    "# Tách dữ liệu thành tập train và test\n",
    "Train_X, Test_X, Train_Y, Test_Y = model_selection.train_test_split(d, label,test_size=0.3, random_state=42)\n",
    "\n",
    "# Chuyển label thành số \n",
    "# Encoder = LabelEncoder()\n",
    "# Train_Y = Encoder.fit_transform(Train_Y)\n",
    "# Test_Y = Encoder.fit_transform(Test_Y)\n",
    "\n",
    "# Vecto hóa dùng TF-IDF Vectorizer\n",
    "Tfidf_vect = TfidfVectorizer(max_features=5000, lowercase=False)\n",
    "Tfidf_vect.fit(d)\n",
    "\n",
    "Train_X_Tfidf = Tfidf_vect.transform(Train_X)\n",
    "Test_X_Tfidf = Tfidf_vect.transform(Test_X)"
   ]
  },
  {
   "cell_type": "code",
   "execution_count": null,
   "metadata": {},
   "outputs": [],
   "source": [
    "# Phân loại dùng Naive Bayes và SVM để so sánh\n",
    "\n",
    "# Naive Bayes\n",
    "# fit tập train \n",
    "Naive = naive_bayes.MultinomialNB()\n",
    "Naive.fit(Train_X_Tfidf,Train_Y)\n",
    "\n",
    "# dự đoán\n",
    "predictions_NB = Naive.predict(Test_X_Tfidf)\n",
    "\n",
    "#  Tính Accuracy\n",
    "print(\"Naive Bayes Accuracy  -> \",accuracy_score(predictions_NB, Test_Y)*100)\n",
    "\n",
    "\n",
    "# SVM\n",
    "# fit tập train \n",
    "SVM = svm.SVC(C=1.0, kernel='linear', degree=3, gamma='auto')\n",
    "SVM.fit(Train_X_Tfidf,Train_Y)\n",
    "\n",
    "# dự đoán\n",
    "predictions_SVM = SVM.predict(Test_X_Tfidf)\n",
    "\n",
    "# Tính Accuracy\n",
    "print(\"SVM Accuracy -> \",accuracy_score(predictions_SVM, Test_Y)*100)"
   ]
  },
  {
   "cell_type": "code",
   "execution_count": null,
   "metadata": {},
   "outputs": [],
   "source": [
    "from sklearn.metrics import confusion_matrix\n",
    "cnf_matrix = confusion_matrix(Test_Y, predictions_SVM)\n",
    "print('Confusion matrix:')\n",
    "print(cnf_matrix)"
   ]
  },
  {
   "cell_type": "code",
   "execution_count": null,
   "metadata": {},
   "outputs": [],
   "source": [
    "TP = float(15249)\n",
    "FP = float(232)\n",
    "TN = float(2210)\n",
    "FN = float(123)\n",
    "precision = TP/(TP+FP)\n",
    "recall = TP/(TP+FN)\n",
    "F1 = 2.0*(precision*recall)/(precision+recall)\n",
    "F1"
   ]
  },
  {
   "cell_type": "code",
   "execution_count": null,
   "metadata": {
    "scrolled": true
   },
   "outputs": [],
   "source": [
    "Naive.predict(Tfidf_vect.transform([pre_process(\"\"\"hôm nay tôi mệt\"\"\")]))\n"
   ]
  },
  {
   "cell_type": "code",
   "execution_count": null,
   "metadata": {},
   "outputs": [],
   "source": [
    "Naive.predict(Tfidf_vect.transform([pre_process(\"\"\"Cái áo này giá 600k bạn nhé :D\"\"\")]))"
   ]
  },
  {
   "cell_type": "code",
   "execution_count": null,
   "metadata": {},
   "outputs": [],
   "source": [
    "from sklearn.feature_extraction.text import TfidfVectorizer\n",
    "\n",
    "from yellowbrick.text import TSNEVisualizer\n",
    "from yellowbrick.datasets import load_hobbies\n",
    "\n",
    "# # Load the data and create document vectors\n",
    "# corpus = load_hobbies()\n",
    "# tfidf = TfidfVectorizer()\n",
    "\n",
    "# X = tfidf.fit_transform(corpus.data)\n",
    "# y = corpus.target\n",
    "\n",
    "# Create the visualizer and draw the vectors\n",
    "tsne = TSNEVisualizer()\n",
    "tsne.fit(Train_X_Tfidf, Train_Y)\n",
    "tsne.show()"
   ]
  },
  {
   "cell_type": "code",
   "execution_count": null,
   "metadata": {},
   "outputs": [],
   "source": [
    "import seaborn as sns\n",
    "import matplotlib.colors as mcolors\n",
    "import matplotlib.pyplot as plt\n",
    "cols = [color for name, color in mcolors.TABLEAU_COLORS.items()]  # more colors: 'mcolors.XKCD_COLORS'\n",
    "\n",
    "fig, axes = plt.subplots(2,1,figsize=(16,14), dpi=160, sharex=True, sharey=True)\n",
    "\n",
    "for i, ax in enumerate(axes.flatten()):\n",
    "    doc_len1 = [len(str(d)) for d in data_sells]\n",
    "    doc_len2 = [len(str(d)) for d in data_nonsells]\n",
    "    doc_lens = doc_len1 + doc_len2\n",
    "    ax.hist(doc_lens, bins = 1000, color=cols[i])\n",
    "    ax.tick_params(axis='y', labelcolor=cols[i], color=cols[i])\n",
    "    sns.kdeplot(doc_lens, color=\"black\", shade=False, ax=ax.twinx())\n",
    "    ax.set(xlim=(0, 1000), xlabel='Document Word Count')\n",
    "    ax.set_ylabel('Number of Documents', color=cols[i])\n",
    "    ax.set_title('Topic: '+str(i), fontdict=dict(size=16, color=cols[i]))\n",
    "\n",
    "fig.tight_layout()\n",
    "fig.subplots_adjust(top=0.90)\n",
    "plt.xticks(np.linspace(0,1000,9))\n",
    "fig.suptitle('Distribution of Document Word Counts by Dominant Topic', fontsize=22)\n",
    "plt.show()"
   ]
  },
  {
   "cell_type": "code",
   "execution_count": null,
   "metadata": {
    "scrolled": true
   },
   "outputs": [],
   "source": [
    "import collections\n",
    "import re\n",
    "import matplotlib.pyplot as plt\n",
    "\n",
    "# file = open('../data/sell.csv', 'r')\n",
    "# file = file.read()\n",
    "from matplotlib.pyplot import figure\n",
    "figure(num=None, figsize=(50, 40), dpi=80, facecolor='w', edgecolor='k')\n",
    "doc_len = collections.defaultdict(int)\n",
    "\"\"\" \n",
    "the next paragraph does all the counting and is the main point of difference from the original article. More on this is explained later.\n",
    "\"\"\"\n",
    "# \\W is regex for characters that are not alphanumerics.\n",
    "# all non-alphanumerics are replaced with a blank space using re.sub\n",
    "def cal_len(data):\n",
    "    for line in data:\n",
    "        l = int(len(line.split())/10)*10\n",
    "        if l < 1000:\n",
    "            doc_len[l] += 1\n",
    "        else:\n",
    "            doc_len[1000] +=1\n",
    "    return doc_len\n",
    "\n",
    "d = cal_len(data_nonsells[0])\n",
    "\n",
    "# # printing most common words\n",
    "# to_print = 25\n",
    "# # the next line sorts the default dict on the values in decreasing  # order and prints the first \"to_print\".\n",
    "# mc = sorted(wordcount.items(), key=lambda k_v: k_v[1], reverse=True)[:to_print] # this is continued from the previous assignment\n",
    "# for word, count in mc:\n",
    "#     print(word, \":\", count)\n",
    "\n",
    "mc = sorted(d.items(), key=lambda k_v: k_v[0], reverse=True)\n",
    "\n",
    "def loai(var):\n",
    "    return var[1] > 10\n",
    "\n",
    "mc = filter(loai,mc)\n",
    "# Draw the bar chart\n",
    "mc = dict(mc)\n",
    "names = list(mc.keys())\n",
    "values = list(mc.values())\n",
    "\n",
    "plt.barh(range(len(mc)),values,tick_label=names)\n",
    "plt.savefig('bar2.png')\n",
    "plt.show()\n",
    "mc\n"
   ]
  }
 ],
 "metadata": {
  "kernelspec": {
   "display_name": "Python 3",
   "language": "python",
   "name": "python3"
  },
  "language_info": {
   "codemirror_mode": {
    "name": "ipython",
    "version": 3
   },
   "file_extension": ".py",
   "mimetype": "text/x-python",
   "name": "python",
   "nbconvert_exporter": "python",
   "pygments_lexer": "ipython3",
   "version": "3.6.9"
  }
 },
 "nbformat": 4,
 "nbformat_minor": 2
}
