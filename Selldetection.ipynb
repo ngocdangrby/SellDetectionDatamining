{
 "cells": [
  {
   "cell_type": "code",
   "execution_count": 110,
   "metadata": {},
   "outputs": [],
   "source": [
    "import pandas as pd\n",
    "import numpy as np\n",
    "from sklearn.preprocessing import LabelEncoder\n",
    "from collections import defaultdict\n",
    "from sklearn.feature_extraction.text import TfidfVectorizer\n",
    "from sklearn import model_selection, naive_bayes, svm\n",
    "from sklearn.metrics import accuracy_score\n",
    "\n",
    "# Đọc dữ liệu đầu vào\n",
    "np.random.seed(500)\n",
    "data_sell = pd.read_csv(\"data/sell.csv\",header=None, dtype=str)\n",
    "data_nonsell = pd.read_csv(\"data/nonsell.csv\",header=None, dtype=str)\n",
    "data_nonsells = data_nonsell.dropna()\n",
    "data_sells = data_sell.dropna()\n",
    "data = pd.concat([data_sells,data_nonsells], ignore_index=True)\n",
    "label = [1]*len(data_sells) + [0]*len(data_nonsells)\n",
    "d = [str(x) for x in data[0].tolist()]\n"
   ]
  },
  {
   "cell_type": "code",
   "execution_count": 114,
   "metadata": {},
   "outputs": [],
   "source": [
    "# Tách dữ liệu thành tập train và test\n",
    "Train_X, Test_X, Train_Y, Test_Y = model_selection.train_test_split(d, label,test_size=0.3, random_state=42)\n",
    "\n",
    "# Chuyển label thành số \n",
    "# Encoder = LabelEncoder()\n",
    "# Train_Y = Encoder.fit_transform(Train_Y)\n",
    "# Test_Y = Encoder.fit_transform(Test_Y)\n",
    "\n",
    "# Vecto hóa dùng TF-IDF Vectorizer\n",
    "Tfidf_vect = TfidfVectorizer(max_features=5000, lowercase=False)\n",
    "Tfidf_vect.fit(d)\n",
    "\n",
    "Train_X_Tfidf = Tfidf_vect.transform(Train_X)\n",
    "Test_X_Tfidf = Tfidf_vect.transform(Test_X)"
   ]
  },
  {
   "cell_type": "code",
   "execution_count": 115,
   "metadata": {},
   "outputs": [
    {
     "name": "stdout",
     "output_type": "stream",
     "text": [
      "Naive Bayes Accuracy  ->  97.01358482092736\n",
      "SVM Accuracy ->  98.00718535982935\n"
     ]
    }
   ],
   "source": [
    "# Phân loại dùng Naive Bayes và SVM để so sánh\n",
    "\n",
    "# Naive Bayes\n",
    "# fit tập train \n",
    "Naive = naive_bayes.MultinomialNB()\n",
    "Naive.fit(Train_X_Tfidf,Train_Y)\n",
    "\n",
    "# dự đoán\n",
    "predictions_NB = Naive.predict(Test_X_Tfidf)\n",
    "\n",
    "#  Tính Accuracy\n",
    "print(\"Naive Bayes Accuracy  -> \",accuracy_score(predictions_NB, Test_Y)*100)\n",
    "\n",
    "\n",
    "# SVM\n",
    "# fit tập train \n",
    "SVM = svm.SVC(C=1.0, kernel='linear', degree=3, gamma='auto')\n",
    "SVM.fit(Train_X_Tfidf,Train_Y)\n",
    "\n",
    "# dự đoán\n",
    "predictions_SVM = SVM.predict(Test_X_Tfidf)\n",
    "\n",
    "# Tính Accuracy\n",
    "print(\"SVM Accuracy -> \",accuracy_score(predictions_SVM, Test_Y)*100)"
   ]
  }
 ],
 "metadata": {
  "kernelspec": {
   "display_name": "Python 3",
   "language": "python",
   "name": "python3"
  },
  "language_info": {
   "codemirror_mode": {
    "name": "ipython",
    "version": 3
   },
   "file_extension": ".py",
   "mimetype": "text/x-python",
   "name": "python",
   "nbconvert_exporter": "python",
   "pygments_lexer": "ipython3",
   "version": "3.6.9"
  }
 },
 "nbformat": 4,
 "nbformat_minor": 2
}
